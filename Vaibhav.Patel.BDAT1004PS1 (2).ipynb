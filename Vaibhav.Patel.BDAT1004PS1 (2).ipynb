{
 "cells": [
  {
   "cell_type": "markdown",
   "id": "225406ce-1085-4716-9fd8-ccd09182b1b9",
   "metadata": {},
   "source": [
    "# Question 1\n",
    "<b>What data type is each of the following (evaluate where necessary)?<b>\n"
   ]
  },
  {
   "cell_type": "markdown",
   "id": "7299df3b-acb3-4653-8cf9-cb5b4304e607",
   "metadata": {},
   "source": [
    "| Data       |    Types     |\n",
    "| :----------|-------------:|\n",
    "| 5          | integer      |\n",
    "| 5.0        | float        |\n",
    "|5 > 1       | boolean      |\n",
    "|'5'         | string       |\n",
    "| 5 * 2      | integer      |\n",
    "| '5' * 2    | string       |\n",
    "| '5' + '2'  | string       |\n",
    "| 5 / 2      | float        |\n",
    "| 5 % 2      | integer      |\n",
    "| {5,2,1}    | set          |\n",
    "| 5 == 3     | boolean      |\n",
    "| 3.14       | float        | "
   ]
  },
  {
   "cell_type": "markdown",
   "id": "a60ae9c3-50e2-4c2e-b481-50477bf02353",
   "metadata": {},
   "source": [
    "<b>Question 2\n",
    "Write (and evaluate) python expressions that answer these questions:<b>"
   ]
  },
  {
   "cell_type": "markdown",
   "id": "48e812bd-3ea8-448f-b3b8-420ff7162e4c",
   "metadata": {},
   "source": [
    "<b>a. How many letters are there in 'Supercalifragilisticexpialidocious'?<b>"
   ]
  },
  {
   "cell_type": "code",
   "execution_count": 3,
   "id": "21968133-d418-48b4-b6a5-0bbe800b7d65",
   "metadata": {},
   "outputs": [
    {
     "name": "stdout",
     "output_type": "stream",
     "text": [
      "34\n"
     ]
    }
   ],
   "source": [
    "spelling = 'Supercalifragilisticexpialidocious'\n",
    "num_letters = len(spelling)\n",
    "print(num_letters)\n"
   ]
  },
  {
   "cell_type": "markdown",
   "id": "3c34acfb-715d-4123-8a97-c07058ddce8b",
   "metadata": {},
   "source": [
    "<b>b. Does 'Supercalifragilisticexpialidocious' contain 'ice' as a substring?<b>"
   ]
  },
  {
   "cell_type": "code",
   "execution_count": 4,
   "id": "0c559dcb-9e01-4b1e-a4e1-fa5a52f702dc",
   "metadata": {},
   "outputs": [
    {
     "name": "stdout",
     "output_type": "stream",
     "text": [
      "Does 'Supercalifragilisticexpialidocious' contain 'ice' as a substring? True\n"
     ]
    }
   ],
   "source": [
    "word = 'Supercalifragilisticexpialidocious'\n",
    "contains_ice = 'ice' in word\n",
    "print(\"Does 'Supercalifragilisticexpialidocious' contain 'ice' as a substring?\", contains_ice)\n"
   ]
  },
  {
   "cell_type": "markdown",
   "id": "080b24c7-4601-423b-8f9d-9bbc43bd213e",
   "metadata": {},
   "source": [
    "<b>c. Which of the following words is the longest:\n",
    "Supercalifragilisticexpialidocious, Honorificabilitudinitatibus, or\n",
    "Bababadalgharaghtakamminarronnkonn?<b>"
   ]
  },
  {
   "cell_type": "code",
   "execution_count": 5,
   "id": "4971bb2a-6088-485f-9493-dbb5e7b6fb01",
   "metadata": {},
   "outputs": [
    {
     "name": "stdout",
     "output_type": "stream",
     "text": [
      "The longest word is: Supercalifragilisticexpialidocious\n"
     ]
    }
   ],
   "source": [
    "text1 = 'Supercalifragilisticexpialidocious'\n",
    "text2 = 'Honorificabilitudinitatibus'\n",
    "text3 = 'Bababadalgharaghtakamminarronnkonn'\n",
    "\n",
    "length_word1 = len(text1)\n",
    "length_word2 = len(text2)\n",
    "length_word3 = len(text3)\n",
    "\n",
    "longest_word = max(text1, text2, text3, key=len)\n",
    "\n",
    "# Print the lengths and the longest word\n",
    "\n",
    "print(\"The longest word is:\", longest_word)\n"
   ]
  },
  {
   "cell_type": "markdown",
   "id": "89a29db2-d02b-4ef9-b231-9fe8b2954c7c",
   "metadata": {},
   "source": [
    "<b>d. Which composer comes first in the dictionary: 'Berlioz', 'Borodin', 'Brian',\n",
    "'Bartok', 'Bellini', 'Buxtehude', 'Bernstein'. Which one comes last?<b>"
   ]
  },
  {
   "cell_type": "code",
   "execution_count": 6,
   "id": "71078a2e-1958-47c1-9c85-1d73cd4c8b95",
   "metadata": {},
   "outputs": [
    {
     "name": "stdout",
     "output_type": "stream",
     "text": [
      "Composer that comes first in the dictionary: Bartok\n",
      "Composer that comes last in the dictionary: Buxtehude\n"
     ]
    }
   ],
   "source": [
    "composers = ['Berlioz', 'Borodin', 'Brian', 'Bartok', 'Bellini', 'Buxtehude', 'Bernstein']\n",
    "\n",
    "sorted_composers = sorted(composers)\n",
    "\n",
    "# Find the first and last composer in the sorted list\n",
    "first_text = sorted_composers[0]\n",
    "last_text = sorted_composers[-1]\n",
    "\n",
    "print(\"Composer that comes first in the dictionary:\", first_text)\n",
    "print(\"Composer that comes last in the dictionary:\", last_text)\n"
   ]
  },
  {
   "cell_type": "markdown",
   "id": "0978b96d-2b90-4a5d-9147-0a3d8ba26f6b",
   "metadata": {},
   "source": [
    "# Question 3\n",
    "<b>Implement function triangleArea(a,b,c) that takes as input the lengths of the 3\n",
    "sides of a triangle and returns the area of the triangle. By Heron's formula, the area\n",
    "of a triangle with side lengths a, b, and c iss(s - a)(s - b)(s - c) , wheres = (a + b + c)/2\n",
    ".<b>"
   ]
  },
  {
   "cell_type": "code",
   "execution_count": 7,
   "id": "69ab6a88-d842-474c-bf31-50614ec27f41",
   "metadata": {},
   "outputs": [
    {
     "name": "stdout",
     "output_type": "stream",
     "text": [
      "1.7320508075688772\n"
     ]
    }
   ],
   "source": [
    "import math\n",
    "\n",
    "def triangleArea(a, b, c):\n",
    "    s = (a + b + c) / 2\n",
    "    area = math.sqrt(s * (s - a) * (s - b) * (s - c))\n",
    "    return area\n",
    "\n",
    "# Example usage\n",
    "print(triangleArea(2, 2, 2))\n"
   ]
  },
  {
   "cell_type": "markdown",
   "id": "a994ec48-1cda-4360-9af0-c0e52d9d1dc3",
   "metadata": {},
   "source": [
    "# Question 4\n",
    "Write a program in python to separate odd and even integers in separate arrays. Go\n",
    "to the editor\n"
   ]
  },
  {
   "cell_type": "code",
   "execution_count": 8,
   "id": "b8d30dff-2cde-43d0-839d-3ddd59b2f56a",
   "metadata": {},
   "outputs": [
    {
     "name": "stdin",
     "output_type": "stream",
     "text": [
      "Input the number of elements to be stored in the array:  3\n",
      "Element - 0 :  4\n",
      "Element - 1 :  7\n",
      "Element - 2 :  11\n"
     ]
    },
    {
     "name": "stdout",
     "output_type": "stream",
     "text": [
      "The Even elements are:\n",
      "[4]\n",
      "\n",
      "The Odd elements are:\n",
      "[7, 11]\n"
     ]
    }
   ],
   "source": [
    "\n",
    "def separate_odd_even(nums):\n",
    "    odd_nums = []\n",
    "    even_nums = []\n",
    "    for num in nums:\n",
    "        if num % 2 == 0:\n",
    "            even_nums.append(num)\n",
    "        else:\n",
    "            odd_nums.append(num)\n",
    "    return odd_nums, even_nums\n",
    "\n",
    "num_elements = int(input(\"Input the number of elements to be stored in the array: \"))\n",
    "\n",
    "arr = []\n",
    "for i in range(num_elements):\n",
    "    arr.append(int(input(f\"Element - {i} : \")))\n",
    "\n",
    "# Separate odd and even numbers\n",
    "odd_numbers, even_numbers = separate_odd_even(arr)\n",
    "\n",
    "print(\"The Even elements are:\")\n",
    "print(even_numbers)\n",
    "\n",
    "print(\"\\nThe Odd elements are:\")\n",
    "print(odd_numbers)\n"
   ]
  },
  {
   "cell_type": "markdown",
   "id": "d3f91801-2168-49db-a06e-8c9e9e407cf4",
   "metadata": {},
   "source": [
    "# Question 5\n",
    "<b>a. Write a function inside(x,y,x1,y1,x2,y2) that returns True or False\n",
    "depending on whether the point (x,y) lies in the rectangle with lower left\n",
    "corner (x1,y1) and upper right corner (x2,y2).<b>\n"
   ]
  },
  {
   "cell_type": "code",
   "execution_count": 9,
   "id": "cfda5337-362c-4298-9d81-fcebd2f398db",
   "metadata": {},
   "outputs": [
    {
     "name": "stdout",
     "output_type": "stream",
     "text": [
      "True\n",
      "False\n"
     ]
    }
   ],
   "source": [
    "def inside(x, y, x1, y1, x2, y2):\n",
    "    return x1 <= x <= x2 and y1 <= y <= y2\n",
    "\n",
    "print(inside(1,1,0,0,2,3))\n",
    "print(inside(-1,-1,0,0,2,3))\n"
   ]
  },
  {
   "cell_type": "markdown",
   "id": "9d766909-39b4-4d4c-8af7-d605704e4e6b",
   "metadata": {},
   "source": [
    "<b>b. Use function inside() from part a. to write an expression that tests whether\n",
    "the point (1,1) lies in both of the following rectangles: one with lower left\n",
    "corner (0.3, 0.5) and upper right corner (1.1, 0.7) and the other with lower\n",
    "left corner (0.5, 0.2) and upper right corner (1.1, 2).<b>"
   ]
  },
  {
   "cell_type": "code",
   "execution_count": 10,
   "id": "c71e7668-ed8a-40f6-b557-cfebf7193499",
   "metadata": {},
   "outputs": [
    {
     "name": "stdout",
     "output_type": "stream",
     "text": [
      "False\n"
     ]
    }
   ],
   "source": [
    "def inside(x, y, x1, y1, x2, y2):\n",
    "    return x1 <= x <= x2 and y1 <= y <= y2\n",
    "\n",
    "x = 1\n",
    "y= 1\n",
    "x11 = 0.3\n",
    "y11 = 0.5\n",
    "x12 = 1.1\n",
    "y12 = 0.7\n",
    "x21 = 0.5\n",
    "y21 = 0.2\n",
    "x22 = 1.1\n",
    "y22 = 2\n",
    "\n",
    "\n",
    "rectangle = inside(x, y, x11, x12, x12, y12) and inside(x,y,x21,y21,x22,y22)\n",
    "print(rectangle)"
   ]
  },
  {
   "cell_type": "markdown",
   "id": "c37ae7da-54bc-4791-8f61-6c6ef98094da",
   "metadata": {},
   "source": [
    "# Question 6\n",
    "<b>You can turn a word into pig-Latin using the following two rules (simplified):\n",
    "• If the word starts with a consonant, move that letter to the end and append\n",
    "'ay'. For example, 'happy' becomes 'appyhay' and 'pencil' becomes 'encilpay'.\n",
    "• If the word starts with a vowel, simply append 'way' to the end of the word.\n",
    "For example, 'enter' becomes 'enterway' and 'other' becomes 'otherway' . For\n",
    "our purposes, there are 5 vowels: a, e, i, o, u (so we count y as a consonant).\n",
    "Write a function pig() that takes a word (i.e., a string) as input and returns its pig-\n",
    "Latin form. Your function should still work if the input word contains upper case\n",
    "characters. Your output should always be lower case however.<b>\n"
   ]
  },
  {
   "cell_type": "code",
   "execution_count": 11,
   "id": "8c8b8496-1219-4e01-b1b2-ee2850084244",
   "metadata": {},
   "outputs": [
    {
     "name": "stdout",
     "output_type": "stream",
     "text": [
      "pypay\n"
     ]
    }
   ],
   "source": [
    "def pig(word):\n",
    "    vowels = 'aeiou'\n",
    "    word = word.lower()  # convert to lower case\n",
    "    if word[0] in vowels:\n",
    "        return word + 'way'\n",
    "    else:\n",
    "        return word[1:] + word[0] + 'ay'\n",
    "        \n",
    "print(pig(\"PPY\"))"
   ]
  },
  {
   "cell_type": "markdown",
   "id": "0cd9c62d-c259-4fbd-9942-c5fa8e46233c",
   "metadata": {},
   "source": [
    "# Question 7\n",
    "<b>File bloodtype1.txt records blood-types of patients (A, B, AB, O or OO) at a clinic.\n",
    "Write a function bldcount() that reads the file with name name and reports (i.e.,\n",
    "prints) how many patients there are in each bloodtype.<b>\n"
   ]
  },
  {
   "cell_type": "code",
   "execution_count": 12,
   "id": "7ea7ec6c-f302-4694-b145-d216854074a3",
   "metadata": {},
   "outputs": [
    {
     "name": "stdout",
     "output_type": "stream",
     "text": [
      "1 patients of blood type B\n",
      "15 patients of blood type O\n",
      "15 patients of blood type A\n",
      "13 patients of blood type AB\n",
      "0 patients of blood type OO\n"
     ]
    }
   ],
   "source": [
    "def bldcount(fileName):\n",
    "    \n",
    "    with open(fileName, 'r') as file:\n",
    "        blood_AB = 0\n",
    "        blood_B = 0\n",
    "        blood_O = 0\n",
    "        blood_A = 0\n",
    "        blood_OO = 0\n",
    "        for line in file:\n",
    "            for bloodgroup in line.split():\n",
    "                if bloodgroup == \"AB\":\n",
    "                    blood_AB += 1\n",
    "                if bloodgroup == \"B\":\n",
    "                    blood_B += 1\n",
    "                if bloodgroup == \"O\": \n",
    "                    blood_O += 1\n",
    "                if bloodgroup == \"A\":\n",
    "                     blood_A += 1\n",
    "                if bloodgroup == \"OO\":\n",
    "                    blood_OO += 1\n",
    "                    \n",
    "\n",
    "        print(str(blood_B) +  \" patients of blood type B\")\n",
    "        print(str(blood_O) +  \" patients of blood type O\")\n",
    "        print(str(blood_A) +  \" patients of blood type A\")\n",
    "        print(str(blood_AB) +  \" patients of blood type AB\")\n",
    "        print(str(blood_OO) +  \" patients of blood type OO\")\n",
    "              \n",
    "    file.close()\n",
    "            \n",
    "file_name = \"bloodtype1.txt\"\n",
    "bldcount(file_name)"
   ]
  },
  {
   "cell_type": "markdown",
   "id": "e0e7e1d7-9b69-4a63-982a-7d51b25e54d4",
   "metadata": {},
   "source": [
    "# Question 8\n",
    " Write a function curconv() that takes as input:\n",
    "1. a currency represented using a string (e.g., 'JPY' for the Japanese Yen or\n",
    "'EUR' for the Euro)\n",
    "2. an amount\n",
    "and then converts and returns the amount in US dollars"
   ]
  },
  {
   "cell_type": "code",
   "execution_count": 13,
   "id": "2bb82f0d-e542-4f7d-8b9d-f13befe2d60a",
   "metadata": {},
   "outputs": [
    {
     "name": "stdout",
     "output_type": "stream",
     "text": [
      "122.96544\n",
      "1.241401\n"
     ]
    }
   ],
   "source": [
    "\n",
    "def curconv(currency, amount):\n",
    "    # Dictionary to store exchange rates\n",
    "    exchange_rates = {}\n",
    "    \n",
    "    # Open the exchange rates file\n",
    "    with open('currencies.txt', 'r') as file:\n",
    "        for line in file:\n",
    "            # Split each line into currency code and exchange rate\n",
    "            data = line.split()\n",
    "            exchange_rates[data[0]] = float(data[1])\n",
    "    \n",
    "        if currency not in exchange_rates:\n",
    "            return \"Currency code not found\"\n",
    "    \n",
    "        return amount * exchange_rates[currency]\n",
    "# Example usage:\n",
    "print(curconv('EUR', 100))  # Convert 100 Euros to USD\n",
    "print(curconv('JPY', 100))  # Convert 100 JPY to USD\n",
    "\n",
    "\n"
   ]
  },
  {
   "cell_type": "markdown",
   "id": "66ed2d72-a4e3-4c71-9fdf-f29c1f0ac5d6",
   "metadata": {},
   "source": [
    "# Question 9\n",
    "<b>Each of the following will cause an exception (an error). Identify what type of\n",
    "exception each will cause.<b>\n",
    "\n",
    "<h4>Trying to add incompatible variables, as in\n",
    "adding 6 + ‘a’<h4>\n",
    "<h4>Referring to the 12th item of a list that has only 10\n",
    "items<h4>\n",
    "<h4>Using a value that is out of range for a function’s\n",
    "input, such as calling math.sqrt(-1.0)<h4>\n",
    "<h4>Using an undeclared variable, such as print(x)\n",
    "when x has not been defined<h4>\n",
    "<h4>Trying to open a file that does not exist, such as\n",
    "mistyping the file name or looking in the wrong\n",
    "directory.<h4>"
   ]
  },
  {
   "cell_type": "markdown",
   "id": "b826b6ba-d945-4c9d-8627-82edfc302e77",
   "metadata": {},
   "source": [
    "| Question       |   TypesError                |  \n",
    "|:------------   | -----------------------:    | \n",
    "| Trying to add incompatible variables, as in adding 6 + ‘a'  | TypeError: unsupported operand type(s) for +: 'int' and 'str'      |\n",
    "| Referring to the 12th item of a list that has only 10 items  |    IndexError: list index out of range        |\n",
    "| Using a value that is out of range for a function’s input, such as calling math.sqrt(-1.0) |      ValueError        |\n",
    "| Using an undeclared variable, such as print(x) when x has not been define |   NameError: name 'x' is not define |\n",
    "| Trying to open a file that does not exist, such as mistyping the file name or looking in the wrong directory | FileNotFoundError: No such file or directory: 'bloodtype2.txt'                     |"
   ]
  },
  {
   "cell_type": "markdown",
   "id": "86055080-ebd5-4b57-8974-d24979ec02b0",
   "metadata": {},
   "source": [
    "# Question 10\n",
    "<b>Encryption is the process of hiding the meaning of a text by substituting letters in the\n",
    "message with other letters, according to some system. If the process is successful, no\n",
    "one but the intended recipient can understand the encrypted message. Cryptanalysis\n",
    "refers to attempts to undo the encryption, even if some details of the encryption are\n",
    "unknown (for example, if an encrypted message has been intercepted). The first step\n",
    "of cryptanalysis is often to build up a table of letter frequencies in the encrypted text.\n",
    "Assume that the string letters is already defined as\n",
    "'abcdefghijklmnopqrstuvwxyz'. Write a function called frequencies()\n",
    "that takes a string as its only parameter, and returns a list of integers, showing the\n",
    "number of times each character appears in the text. Your function may ignore any\n",
    "characters that are not in letters.<b>"
   ]
  },
  {
   "cell_type": "code",
   "execution_count": 18,
   "id": "1e38c00f-c406-4296-a557-d72a39d0cf53",
   "metadata": {},
   "outputs": [
    {
     "name": "stdout",
     "output_type": "stream",
     "text": [
      "[1, 0, 0, 0, 1, 0, 0, 0, 0, 0, 0, 1, 0, 0, 0, 2, 0, 0, 0, 0, 0, 0, 0, 0, 0, 0]\n"
     ]
    }
   ],
   "source": [
    "letters = 'abcdefghijklmnopqrstuvwxyz'\n",
    "\n",
    "\n",
    "def frequencies(text):\n",
    "    freqs = [0] * len(letters)\n",
    "\n",
    "    \n",
    "    for char in text:\n",
    "        \n",
    "        if char.islower():\n",
    "            index = letters.index(char)\n",
    "            freqs[index] += 1\n",
    "\n",
    "    return freqs\n",
    "\n",
    "\n",
    "print(frequencies('apple'))\n"
   ]
  }
 ],
 "metadata": {
  "kernelspec": {
   "display_name": "Python 3 (ipykernel)",
   "language": "python",
   "name": "python3"
  },
  "language_info": {
   "codemirror_mode": {
    "name": "ipython",
    "version": 3
   },
   "file_extension": ".py",
   "mimetype": "text/x-python",
   "name": "python",
   "nbconvert_exporter": "python",
   "pygments_lexer": "ipython3",
   "version": "3.11.7"
  }
 },
 "nbformat": 4,
 "nbformat_minor": 5
}
